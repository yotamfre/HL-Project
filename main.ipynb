{
 "cells": [
  {
   "cell_type": "code",
   "execution_count": 6,
   "metadata": {},
   "outputs": [],
   "source": [
    "from tkinter import *\n",
    "\n",
    "makeMainMenu()\n",
    "mainloop()"
   ]
  },
  {
   "cell_type": "code",
   "execution_count": 2,
   "metadata": {},
   "outputs": [],
   "source": [
    "from tkinter import *\n",
    "\n",
    "def makeMainMenu():\n",
    "    frm = Tk()\n",
    "\n",
    "    canvas_width = 200\n",
    "    canvas_height = 400\n",
    "\n",
    "    buttonHeight = 2\n",
    "    buttonWidth = 10\n",
    "\n",
    "    message = Label(frm, text = \"Your number is:\",font = \"Bold\", bg = \"#b6d7a8\", width = 200, height = 15)\n",
    "    message.pack()\n",
    "\n",
    "    canvas = Canvas(frm,\n",
    "            width=canvas_width,\n",
    "            height=canvas_height)\n",
    "    canvas.pack(expand=YES, fill=BOTH)\n",
    "\n",
    "    def resetClicked():\n",
    "        print(\"reset has been clicked\")\n",
    "\n",
    "    def AddDigitClicked():\n",
    "        frm.destroy()\n",
    "        makeCanvas()\n",
    "\n",
    "    ResetButton = Button(frm, text = \"Rest\", font = \"Bold\", bg = \"Blue\", command = resetClicked, width = buttonWidth, height = buttonHeight)\n",
    "    ResetButton.place(x = 25,y = 600)\n",
    "\n",
    "    AddDigitButton = Button(frm, text = \"Add Digit\", font = \"Bold\", bg = \"Blue\", command = AddDigitClicked, width = buttonWidth, height = buttonHeight)\n",
    "    AddDigitButton.place(x = 1675,y = 600)"
   ]
  },
  {
   "cell_type": "code",
   "execution_count": 5,
   "metadata": {},
   "outputs": [],
   "source": [
    "from tkinter import *\n",
    "\n",
    "def makeCanvas():\n",
    "    frm = Tk()\n",
    "\n",
    "    canvas_width = 200\n",
    "    canvas_height = 400\n",
    "\n",
    "    buttonHeight = 2\n",
    "    buttonWidth = 10\n",
    "\n",
    "    message = Label(frm, text=\"write the digit you wish to add\", font = \"Bold\", bg = \"#b6d7a8\", width = 200, height=15)\n",
    "    message.pack(side=TOP)\n",
    "\n",
    "    canvas = Canvas(frm,\n",
    "            width=canvas_width,\n",
    "            height=canvas_height)\n",
    "    canvas.pack(expand=YES, fill=BOTH)\n",
    "\n",
    "    def paint(event):\n",
    "        blackHex = \"#000000\"\n",
    "        x1, y1 = (event.x - 2), (event.y - 2)\n",
    "        x2, y2 = (event.x + 2), (event.y + 2)\n",
    "        canvas.create_oval(x1, y1, x2, y2, fill=blackHex)\n",
    "\n",
    "    def cancelClicked():\n",
    "        frm.destroy()\n",
    "        makeMainMenu()\n",
    "\n",
    "    def AddClicked():\n",
    "        print(\"Add clicked\")\n",
    "\n",
    "    cancelButton = Button(frm, text = \"Cancel\", font = \"Bold\", bg = \"Blue\", command = cancelClicked, width = buttonWidth, height = buttonHeight)\n",
    "    cancelButton.place(x = 25,y = 600)\n",
    "\n",
    "    AddButton = Button(frm, text = \"Add\", font = \"Bold\", bg = \"Blue\", command = AddClicked, width = buttonWidth, height = buttonHeight)\n",
    "    AddButton.place(x = 1675,y = 600)\n",
    "\n",
    "    canvas.bind(\"<B1-Motion>\", paint)\n",
    "\n",
    "\n"
   ]
  }
 ],
 "metadata": {
  "kernelspec": {
   "display_name": "Python 3.9.12 ('base')",
   "language": "python",
   "name": "python3"
  },
  "language_info": {
   "codemirror_mode": {
    "name": "ipython",
    "version": 3
   },
   "file_extension": ".py",
   "mimetype": "text/x-python",
   "name": "python",
   "nbconvert_exporter": "python",
   "pygments_lexer": "ipython3",
   "version": "3.9.12"
  },
  "orig_nbformat": 4,
  "vscode": {
   "interpreter": {
    "hash": "41a8bb042236853c4d003d0bbfa761c6f3a71c5f238884c2a97247d6653e3ced"
   }
  }
 },
 "nbformat": 4,
 "nbformat_minor": 2
}
