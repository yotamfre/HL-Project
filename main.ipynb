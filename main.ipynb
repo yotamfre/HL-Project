{
 "cells": [
  {
   "cell_type": "code",
   "execution_count": 21,
   "metadata": {},
   "outputs": [
    {
     "name": "stdout",
     "output_type": "stream",
     "text": [
      "thakur is getting a refferal\n",
      "thakur is getting a refferal\n"
     ]
    }
   ],
   "source": [
    "from tkinter import *\n",
    "\n",
    "canvas_width = 400\n",
    "canvas_height = 600\n",
    "\n",
    "buttonHeight = 4\n",
    "buttonWidth = 20\n",
    "\n",
    "\n",
    "frm = Tk()\n",
    "\n",
    "def makeCanvas():\n",
    "    message = Label(frm, text=\"write the digit you wish to add\", bg = \"#b6d7a8\", width = 400, height=20)\n",
    "    message.pack(side=TOP)\n",
    "\n",
    "    canvas = Canvas(frm,\n",
    "            width=canvas_width,\n",
    "            height=canvas_height)\n",
    "    canvas.pack(expand=YES, fill=BOTH)\n",
    "\n",
    "    def paint(event):\n",
    "        blackHex = \"#000000\"\n",
    "        x1, y1 = (event.x - 2), (event.y - 2)\n",
    "        x2, y2 = (event.x + 2), (event.y + 2)\n",
    "        canvas.create_oval(x1, y1, x2, y2, fill=blackHex)\n",
    "\n",
    "    def cancelClicked():\n",
    "        print(\"cancel has been clicked\")\n",
    "\n",
    "    cancelButton = Button(frm, text = \"Cancel\", font=\"Bold\", bg = \"Blue\", command = cancelClicked, width = buttonWidth, height = buttonHeight)\n",
    "    cancelButton.place(x = 25,y = 800)\n",
    "\n",
    "    canvas.bind(\"<B1-Motion>\", paint)\n",
    "\n",
    "makeCanvas()\n",
    "mainloop()\n",
    "\n"
   ]
  }
 ],
 "metadata": {
  "kernelspec": {
   "display_name": "Python 3.9.12 ('base')",
   "language": "python",
   "name": "python3"
  },
  "language_info": {
   "codemirror_mode": {
    "name": "ipython",
    "version": 3
   },
   "file_extension": ".py",
   "mimetype": "text/x-python",
   "name": "python",
   "nbconvert_exporter": "python",
   "pygments_lexer": "ipython3",
   "version": "3.9.12"
  },
  "orig_nbformat": 4,
  "vscode": {
   "interpreter": {
    "hash": "41a8bb042236853c4d003d0bbfa761c6f3a71c5f238884c2a97247d6653e3ced"
   }
  }
 },
 "nbformat": 4,
 "nbformat_minor": 2
}
