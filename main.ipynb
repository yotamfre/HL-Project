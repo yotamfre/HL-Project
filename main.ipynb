{
 "cells": [
  {
   "cell_type": "code",
   "execution_count": 27,
   "metadata": {},
   "outputs": [
    {
     "ename": "NameError",
     "evalue": "name 'AddlClicked' is not defined",
     "output_type": "error",
     "traceback": [
      "\u001b[1;31m---------------------------------------------------------------------------\u001b[0m",
      "\u001b[1;31mNameError\u001b[0m                                 Traceback (most recent call last)",
      "\u001b[1;32mc:\\Users\\yotam\\OneDrive\\מסמכים\\python\\HL project\\HL-Project\\main.ipynb Cell 1\u001b[0m in \u001b[0;36m<cell line: 5>\u001b[1;34m()\u001b[0m\n\u001b[0;32m      <a href='vscode-notebook-cell:/c%3A/Users/yotam/OneDrive/%D7%9E%D7%A1%D7%9E%D7%9B%D7%99%D7%9D/python/HL%20project/HL-Project/main.ipynb#W1sZmlsZQ%3D%3D?line=0'>1</a>\u001b[0m \u001b[39mfrom\u001b[39;00m \u001b[39mtkinter\u001b[39;00m \u001b[39mimport\u001b[39;00m \u001b[39m*\u001b[39m\n\u001b[0;32m      <a href='vscode-notebook-cell:/c%3A/Users/yotam/OneDrive/%D7%9E%D7%A1%D7%9E%D7%9B%D7%99%D7%9D/python/HL%20project/HL-Project/main.ipynb#W1sZmlsZQ%3D%3D?line=2'>3</a>\u001b[0m master \u001b[39m=\u001b[39m Tk()\n\u001b[1;32m----> <a href='vscode-notebook-cell:/c%3A/Users/yotam/OneDrive/%D7%9E%D7%A1%D7%9E%D7%9B%D7%99%D7%9D/python/HL%20project/HL-Project/main.ipynb#W1sZmlsZQ%3D%3D?line=4'>5</a>\u001b[0m makeCanvas(master)\n\u001b[0;32m      <a href='vscode-notebook-cell:/c%3A/Users/yotam/OneDrive/%D7%9E%D7%A1%D7%9E%D7%9B%D7%99%D7%9D/python/HL%20project/HL-Project/main.ipynb#W1sZmlsZQ%3D%3D?line=5'>6</a>\u001b[0m mainloop()\n",
      "\u001b[1;32mc:\\Users\\yotam\\OneDrive\\מסמכים\\python\\HL project\\HL-Project\\main.ipynb Cell 1\u001b[0m in \u001b[0;36mmakeCanvas\u001b[1;34m(frm)\u001b[0m\n\u001b[0;32m     <a href='vscode-notebook-cell:/c%3A/Users/yotam/OneDrive/%D7%9E%D7%A1%D7%9E%D7%9B%D7%99%D7%9D/python/HL%20project/HL-Project/main.ipynb#W1sZmlsZQ%3D%3D?line=27'>28</a>\u001b[0m cancelButton \u001b[39m=\u001b[39m Button(frm, text \u001b[39m=\u001b[39m \u001b[39m\"\u001b[39m\u001b[39mCancel\u001b[39m\u001b[39m\"\u001b[39m, font\u001b[39m=\u001b[39m\u001b[39m\"\u001b[39m\u001b[39mBold\u001b[39m\u001b[39m\"\u001b[39m, bg \u001b[39m=\u001b[39m \u001b[39m\"\u001b[39m\u001b[39mBlue\u001b[39m\u001b[39m\"\u001b[39m, command \u001b[39m=\u001b[39m cancelClicked, width \u001b[39m=\u001b[39m buttonWidth, height \u001b[39m=\u001b[39m buttonHeight)\n\u001b[0;32m     <a href='vscode-notebook-cell:/c%3A/Users/yotam/OneDrive/%D7%9E%D7%A1%D7%9E%D7%9B%D7%99%D7%9D/python/HL%20project/HL-Project/main.ipynb#W1sZmlsZQ%3D%3D?line=28'>29</a>\u001b[0m cancelButton\u001b[39m.\u001b[39mplace(x \u001b[39m=\u001b[39m \u001b[39m25\u001b[39m,y \u001b[39m=\u001b[39m \u001b[39m800\u001b[39m)\n\u001b[1;32m---> <a href='vscode-notebook-cell:/c%3A/Users/yotam/OneDrive/%D7%9E%D7%A1%D7%9E%D7%9B%D7%99%D7%9D/python/HL%20project/HL-Project/main.ipynb#W1sZmlsZQ%3D%3D?line=30'>31</a>\u001b[0m AddButton \u001b[39m=\u001b[39m Button(frm, text \u001b[39m=\u001b[39m \u001b[39m\"\u001b[39m\u001b[39mAdd\u001b[39m\u001b[39m\"\u001b[39m, font\u001b[39m=\u001b[39m\u001b[39m\"\u001b[39m\u001b[39mBold\u001b[39m\u001b[39m\"\u001b[39m, bg \u001b[39m=\u001b[39m \u001b[39m\"\u001b[39m\u001b[39mBlue\u001b[39m\u001b[39m\"\u001b[39m, command \u001b[39m=\u001b[39m AddlClicked, width \u001b[39m=\u001b[39m buttonWidth, height \u001b[39m=\u001b[39m buttonHeight)\n\u001b[0;32m     <a href='vscode-notebook-cell:/c%3A/Users/yotam/OneDrive/%D7%9E%D7%A1%D7%9E%D7%9B%D7%99%D7%9D/python/HL%20project/HL-Project/main.ipynb#W1sZmlsZQ%3D%3D?line=31'>32</a>\u001b[0m AddButton\u001b[39m.\u001b[39mplace(x \u001b[39m=\u001b[39m \u001b[39m800\u001b[39m,y \u001b[39m=\u001b[39m \u001b[39m800\u001b[39m)\n\u001b[0;32m     <a href='vscode-notebook-cell:/c%3A/Users/yotam/OneDrive/%D7%9E%D7%A1%D7%9E%D7%9B%D7%99%D7%9D/python/HL%20project/HL-Project/main.ipynb#W1sZmlsZQ%3D%3D?line=34'>35</a>\u001b[0m canvas\u001b[39m.\u001b[39mbind(\u001b[39m\"\u001b[39m\u001b[39m<B1-Motion>\u001b[39m\u001b[39m\"\u001b[39m, paint)\n",
      "\u001b[1;31mNameError\u001b[0m: name 'AddlClicked' is not defined"
     ]
    }
   ],
   "source": [
    "from tkinter import *\n",
    "\n",
    "master = Tk()\n",
    "\n",
    "makeCanvas(master)\n",
    "mainloop()\n"
   ]
  },
  {
   "cell_type": "code",
   "execution_count": 26,
   "metadata": {},
   "outputs": [],
   "source": [
    "from tkinter import *\n",
    "\n",
    "canvas_width = 400\n",
    "canvas_height = 600\n",
    "\n",
    "buttonHeight = 4\n",
    "buttonWidth = 20\n",
    "\n",
    "\n",
    "def makeCanvas(frm):\n",
    "    message = Label(frm, text=\"write the digit you wish to add\", bg = \"#b6d7a8\", width = 400, height=20)\n",
    "    message.pack(side=TOP)\n",
    "\n",
    "    canvas = Canvas(frm,\n",
    "            width=canvas_width,\n",
    "            height=canvas_height)\n",
    "    canvas.pack(expand=YES, fill=BOTH)\n",
    "\n",
    "    def paint(event):\n",
    "        blackHex = \"#000000\"\n",
    "        x1, y1 = (event.x - 2), (event.y - 2)\n",
    "        x2, y2 = (event.x + 2), (event.y + 2)\n",
    "        canvas.create_oval(x1, y1, x2, y2, fill=blackHex)\n",
    "\n",
    "    def cancelClicked():\n",
    "        print(\"cancel has been clicked\")\n",
    "\n",
    "    def AddClicked():\n",
    "        print(\"Add clicked\")\n",
    "\n",
    "    cancelButton = Button(frm, text = \"Cancel\", font=\"Bold\", bg = \"Blue\", command = cancelClicked, width = buttonWidth, height = buttonHeight)\n",
    "    cancelButton.place(x = 25,y = 800)\n",
    "\n",
    "    AddButton = Button(frm, text = \"Add\", font=\"Bold\", bg = \"Blue\", command = AddlClicked, width = buttonWidth, height = buttonHeight)\n",
    "    AddButton.place(x = 800,y = 800)\n",
    "\n",
    "\n",
    "    canvas.bind(\"<B1-Motion>\", paint)\n",
    "\n",
    "\n"
   ]
  }
 ],
 "metadata": {
  "kernelspec": {
   "display_name": "Python 3.9.12 ('base')",
   "language": "python",
   "name": "python3"
  },
  "language_info": {
   "codemirror_mode": {
    "name": "ipython",
    "version": 3
   },
   "file_extension": ".py",
   "mimetype": "text/x-python",
   "name": "python",
   "nbconvert_exporter": "python",
   "pygments_lexer": "ipython3",
   "version": "3.9.12"
  },
  "orig_nbformat": 4,
  "vscode": {
   "interpreter": {
    "hash": "41a8bb042236853c4d003d0bbfa761c6f3a71c5f238884c2a97247d6653e3ced"
   }
  }
 },
 "nbformat": 4,
 "nbformat_minor": 2
}
