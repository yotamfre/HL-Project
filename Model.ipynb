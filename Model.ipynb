{
 "cells": [
  {
   "cell_type": "code",
   "execution_count": null,
   "metadata": {},
   "outputs": [],
   "source": [
    "import numpy as np\n",
    "import torch\n",
    "import torchvision\n",
    "import matplotlib.pyplot as plt\n",
    "from time import time\n",
    "from torchvision import datasets, transforms\n",
    "from torch import nn, optim\n",
    "\n",
    "Batch = 192\n",
    "sizeTest = 64\n",
    "SizeTrain = Batch - sizeTest\n",
    "\n",
    "transform = transforms.Compose([transforms.ToTensor(),\n",
    "                              transforms.Normalize((0.5,), (0.5,)),\n",
    "                              ])\n",
    "\n",
    "trainset = datasets.MNIST('TrainSet', download=True, train=True, transform=transform)\n",
    "valset = datasets.MNIST('ValSet', download=True, train=False, transform=transform)\n",
    "trainloader = torch.utils.data.DataLoader(trainset, batch_size=Batch, shuffle=True)\n",
    "valloader = torch.utils.data.DataLoader(valset, batch_size=64, shuffle=True)\n",
    "\n",
    "dataiter = iter(trainloader)\n",
    "images, labels = dataiter.next()\n",
    "images = images.numpy()\n",
    "images = np.resize(images,(Batch,784))\n",
    "X = images[0:SizeTrain,:]\n",
    "Y = labels.numpy()[0:SizeTrain]\n",
    "\n",
    "\n",
    "new_column = np.ones(SizeTrain)\n",
    "X = np.column_stack([X, new_column])\n",
    "\n",
    "Xval = images[SizeTrain:Batch,:]\n",
    "Yval = labels[SizeTrain:Batch]\n",
    "\n",
    "new_column = np.ones(sizeTest)\n",
    "Xval = np.column_stack([Xval, new_column])"
   ]
  },
  {
   "cell_type": "code",
   "execution_count": 29,
   "metadata": {},
   "outputs": [],
   "source": [
    "newY = np.zeros(shape=(SizeTrain,10))\n",
    "for i in range(Y.shape[0]):\n",
    "    newY[i,Y[i]] = 1\n"
   ]
  },
  {
   "cell_type": "code",
   "execution_count": null,
   "metadata": {},
   "outputs": [],
   "source": [
    "import numpy as np\n",
    "\n",
    "# Number of classes\n",
    "K = 10\n",
    "\n",
    "# Number of features\n",
    "N = 785\n",
    "\n",
    "# Initialize weights\n",
    "weights = np.zeros((K,N))\n",
    "\n",
    "#Training Iterations\n",
    "trainIters = 1000\n",
    "\n",
    "# sigmoid\n",
    "def sigmoid(x):\n",
    "  return 1 / (1 + np.exp(-x))\n",
    "\n",
    "# Training method\n",
    "def one_vs_all_logreg(X, y, K, weights, learning_rate, lamb):\n",
    "    \n",
    "    # Number of training examples\n",
    "    m = X.shape[0]\n",
    "    \n",
    "    for i in range(trainIters):\n",
    "    # Initialize the cost\n",
    "      J = 0\n",
    "      \n",
    "      # Compute the hypothesis\n",
    "      h = np.dot(X, weights.T)\n",
    "      \n",
    "      # Compute the cost\n",
    "      for k in range(K):\n",
    "          temp = -y[:,k] * np.log(sigmoid(h[:,k])) - (1 - y[:,k]) * np.log(1 - sigmoid(h[:,k]))\n",
    "          J += np.sum(temp)\n",
    "          g = np.dot(X.T, (sigmoid(h)[:,k] - y[:,k]))\n",
    "          g = g/m\n",
    "          g = g + (lamb/m * np.max(weights[1:,k]))\n",
    "          \n",
    "\n",
    "          #update weights \n",
    "          weights[k] = weights[k] - learning_rate*g\n",
    "          \n",
    "      J = J/m\n",
    "\n",
    "    return weights\n",
    "\n",
    "      \n",
    "    \n",
    "\n",
    "\n",
    "theta = one_vs_all_logreg(X, newY, K, weights, .1)"
   ]
  },
  {
   "cell_type": "code",
   "execution_count": 30,
   "metadata": {},
   "outputs": [],
   "source": [
    "def predict(X, weights):\n",
    "    return np.argmax(sigmoid(np.dot(X, weights.T)), axis=1)\n",
    "\n",
    "pred = predict(Xval,theta)\n"
   ]
  },
  {
   "cell_type": "code",
   "execution_count": 31,
   "metadata": {},
   "outputs": [
    {
     "name": "stdout",
     "output_type": "stream",
     "text": [
      "0.890625\n"
     ]
    }
   ],
   "source": [
    "numFalse = 0\n",
    "for i in range(pred.shape[0]):\n",
    "    if pred[i] == Yval[i]:\n",
    "        numFalse = numFalse\n",
    "    else:\n",
    "        numFalse = numFalse + 1\n",
    "print(numFalse/sizeTest)"
   ]
  }
 ],
 "metadata": {
  "kernelspec": {
   "display_name": "Python 3.9.12 ('base')",
   "language": "python",
   "name": "python3"
  },
  "language_info": {
   "codemirror_mode": {
    "name": "ipython",
    "version": 3
   },
   "file_extension": ".py",
   "mimetype": "text/x-python",
   "name": "python",
   "nbconvert_exporter": "python",
   "pygments_lexer": "ipython3",
   "version": "3.9.12 (main, Apr  4 2022, 05:22:27) [MSC v.1916 64 bit (AMD64)]"
  },
  "orig_nbformat": 4,
  "vscode": {
   "interpreter": {
    "hash": "41a8bb042236853c4d003d0bbfa761c6f3a71c5f238884c2a97247d6653e3ced"
   }
  }
 },
 "nbformat": 4,
 "nbformat_minor": 2
}
