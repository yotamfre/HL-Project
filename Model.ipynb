{
 "cells": [
  {
   "cell_type": "code",
   "execution_count": 1,
   "metadata": {},
   "outputs": [],
   "source": [
    "import numpy as np\n",
    "import torch\n",
    "import torchvision\n",
    "import matplotlib.pyplot as plt\n",
    "from time import time\n",
    "from torchvision import datasets, transforms\n",
    "from torch import nn, optim\n",
    "\n",
    "transform = transforms.Compose([transforms.ToTensor(),\n",
    "                              transforms.Normalize((0.5,), (0.5,)),\n",
    "                              ])\n",
    "\n",
    "trainset = datasets.MNIST('TrainSet', download=True, train=True, transform=transform)\n",
    "valset = datasets.MNIST('ValSet', download=True, train=False, transform=transform)\n",
    "trainloader = torch.utils.data.DataLoader(trainset, batch_size=64, shuffle=True)\n",
    "valloader = torch.utils.data.DataLoader(valset, batch_size=64, shuffle=True)\n",
    "\n",
    "dataiter = iter(trainloader)\n",
    "images, Y = dataiter.next()\n",
    "images = images.numpy()\n",
    "X = np.resize(images,(64,784))\n",
    "Y = Y.numpy()"
   ]
  },
  {
   "cell_type": "code",
   "execution_count": 2,
   "metadata": {},
   "outputs": [],
   "source": [
    "newY = np.zeros(shape=(64,10))\n",
    "for i in range(Y.shape[0]):\n",
    "    newY[i,Y[i]] = 1\n"
   ]
  },
  {
   "cell_type": "code",
   "execution_count": 61,
   "metadata": {},
   "outputs": [],
   "source": [
    "import numpy as np\n",
    "\n",
    "# Number of classes\n",
    "K = 10\n",
    "\n",
    "# Number of features\n",
    "N = 784\n",
    "\n",
    "# Initialize weights\n",
    "weights = np.zeros((K,N))\n",
    "\n",
    "#Training Iterations\n",
    "trainIters = 100\n",
    "\n",
    "# sigmoid\n",
    "def sigmoid(x):\n",
    "  return 1 / (1 + np.exp(-x))\n",
    "\n",
    "# Training method\n",
    "def one_vs_all_logreg(X, y, K, weights, learning_rate):\n",
    "    \n",
    "    # Number of training examples\n",
    "    m = X.shape[0]\n",
    "    \n",
    "    for i in range(trainIters):\n",
    "    # Initialize the cost\n",
    "      J = 0\n",
    "      \n",
    "      # Compute the hypothesis\n",
    "      h = np.dot(X, weights.T)\n",
    "      \n",
    "      # Compute the cost\n",
    "      for k in range(K):\n",
    "          temp = -y[:,k] * np.log(sigmoid(h[:,k])) - (1 - y[:,k]) * np.log(1 - sigmoid(h[:,k]))\n",
    "          J += np.sum(temp)\n",
    "          g = np.dot(X.T, (sigmoid(h)[:,k] - y[:,k]))\n",
    "          g = g/m\n",
    "          \n",
    "\n",
    "          #update weights \n",
    "          weights[k] = weights[k] - learning_rate*g\n",
    "          \n",
    "      J = J/m\n",
    "\n",
    "    return weights\n",
    "\n",
    "      \n",
    "    \n",
    "\n",
    "\n",
    "theta = one_vs_all_logreg(X, newY, K, weights, .1)"
   ]
  },
  {
   "cell_type": "code",
   "execution_count": 67,
   "metadata": {},
   "outputs": [
    {
     "name": "stdout",
     "output_type": "stream",
     "text": [
      "[0 6 1 3 9 5 3 6 3 5 3 4 5 1 9 5 6 2 3 0 9 2 7 8 1 4 2 9 0 2 7 9 6 9 2 0 3\n",
      " 1 7 0 1 1 1 2 1 4 9 5 8 5 6 0 7 3 5 7 3 5 5 7 9 1 6 5]\n"
     ]
    }
   ],
   "source": [
    "def predict(X, weights):\n",
    "    return np.argmax(sigmoid(np.dot(X, weights.T)), axis=1)\n",
    "\n",
    "pred = predict(X,theta)\n",
    "print(pred)"
   ]
  }
 ],
 "metadata": {
  "kernelspec": {
   "display_name": "Python 3.9.12 ('base')",
   "language": "python",
   "name": "python3"
  },
  "language_info": {
   "codemirror_mode": {
    "name": "ipython",
    "version": 3
   },
   "file_extension": ".py",
   "mimetype": "text/x-python",
   "name": "python",
   "nbconvert_exporter": "python",
   "pygments_lexer": "ipython3",
   "version": "3.9.12 (main, Apr  4 2022, 05:22:27) [MSC v.1916 64 bit (AMD64)]"
  },
  "orig_nbformat": 4,
  "vscode": {
   "interpreter": {
    "hash": "41a8bb042236853c4d003d0bbfa761c6f3a71c5f238884c2a97247d6653e3ced"
   }
  }
 },
 "nbformat": 4,
 "nbformat_minor": 2
}
