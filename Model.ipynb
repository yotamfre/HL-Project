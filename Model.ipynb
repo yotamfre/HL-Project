{
 "cells": [
  {
   "cell_type": "code",
   "execution_count": 1,
   "metadata": {},
   "outputs": [],
   "source": [
    "import numpy as np\n",
    "import torch\n",
    "import torchvision\n",
    "import matplotlib.pyplot as plt\n",
    "from time import time\n",
    "from torchvision import datasets, transforms\n",
    "from torch import nn, optim\n",
    "\n",
    "transform = transforms.Compose([transforms.ToTensor(),\n",
    "                              transforms.Normalize((0.5,), (0.5,)),\n",
    "                              ])\n",
    "\n",
    "trainset = datasets.MNIST('TrainSet', download=True, train=True, transform=transform)\n",
    "valset = datasets.MNIST('ValSet', download=True, train=False, transform=transform)\n",
    "trainloader = torch.utils.data.DataLoader(trainset, batch_size=64, shuffle=True)\n",
    "valloader = torch.utils.data.DataLoader(valset, batch_size=64, shuffle=True)\n",
    "\n",
    "dataiter = iter(trainloader)\n",
    "images, Y = dataiter.next()\n",
    "images = images.numpy()\n",
    "X = np.resize(images,(64,784))\n",
    "Y = Y.numpy()"
   ]
  },
  {
   "cell_type": "code",
   "execution_count": 9,
   "metadata": {},
   "outputs": [],
   "source": [
    "def getSigmoid(T, x):\n",
    "    activation = np.exp(np.matmul(x,T))\n",
    "    sig = np.divide(1,np.add(activation,1))\n",
    "    return sig\n",
    "\n",
    "def getLoss(T, Y, x):\n",
    "    m = np.prod(Y.shape)\n",
    "    activation = np.amax(getSigmoid(T,x),1)\n",
    "    loss= np.square(np.subtract(activation, Y))\n",
    "    loss = np.multiply(np.sum(loss), 1/(2 * m))\n",
    "    return loss\n",
    "\n",
    "def getGradient(T, Y, X):\n",
    "    activation = np.amax(getSigmoid(T,x),1)\n",
    "    "
   ]
  },
  {
   "cell_type": "code",
   "execution_count": 34,
   "metadata": {},
   "outputs": [
    {
     "data": {
      "text/plain": [
       "10.1640625"
      ]
     },
     "execution_count": 34,
     "metadata": {},
     "output_type": "execute_result"
    }
   ],
   "source": [
    "theta = np.random.rand(784,10)\n",
    "getLoss(theta, Y, X)"
   ]
  }
 ],
 "metadata": {
  "kernelspec": {
   "display_name": "Python 3.9.12 ('base')",
   "language": "python",
   "name": "python3"
  },
  "language_info": {
   "codemirror_mode": {
    "name": "ipython",
    "version": 3
   },
   "file_extension": ".py",
   "mimetype": "text/x-python",
   "name": "python",
   "nbconvert_exporter": "python",
   "pygments_lexer": "ipython3",
   "version": "3.9.12"
  },
  "orig_nbformat": 4,
  "vscode": {
   "interpreter": {
    "hash": "41a8bb042236853c4d003d0bbfa761c6f3a71c5f238884c2a97247d6653e3ced"
   }
  }
 },
 "nbformat": 4,
 "nbformat_minor": 2
}
