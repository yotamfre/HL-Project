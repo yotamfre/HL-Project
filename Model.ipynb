{
 "cells": [
  {
   "cell_type": "code",
   "execution_count": 30,
   "metadata": {},
   "outputs": [],
   "source": [
    "import numpy as np\n",
    "import torch\n",
    "import torchvision\n",
    "import matplotlib.pyplot as plt\n",
    "from time import time\n",
    "from torchvision import datasets, transforms\n",
    "from torch import nn, optim\n",
    "\n",
    "transform = transforms.Compose([transforms.ToTensor(),\n",
    "                              transforms.Normalize((0.5,), (0.5,)),\n",
    "                              ])\n",
    "\n",
    "trainset = datasets.MNIST('TrainSet', download=True, train=True, transform=transform)\n",
    "valset = datasets.MNIST('ValSet', download=True, train=False, transform=transform)\n",
    "trainloader = torch.utils.data.DataLoader(trainset, batch_size=64, shuffle=True)\n",
    "valloader = torch.utils.data.DataLoader(valset, batch_size=64, shuffle=True)\n",
    "\n",
    "dataiter = iter(trainloader)\n",
    "images, Y = dataiter.next()\n",
    "images = images.numpy()\n",
    "X = np.resize(images,(64,784))"
   ]
  },
  {
   "cell_type": "code",
   "execution_count": 66,
   "metadata": {},
   "outputs": [],
   "source": [
    "def getSigmoid(T, x):\n",
    "    activation = np.exp(np.matmul(x,T))\n",
    "    sig = np.divide(1,activation + 1)\n",
    "    return sig\n",
    "\n",
    "def getLoss(T,Y,x):\n",
    "    m = np.prod(Y.shape)\n",
    "    activation = np.amax(getSigmoid(x,T),1)\n",
    "    lossarr = np.square(np.subtract(activation, Y))\n",
    "    loss = np.multiply(np.sum(lossarr), 1/(2 * m))\n",
    "    return loss\n"
   ]
  },
  {
   "cell_type": "code",
   "execution_count": 64,
   "metadata": {},
   "outputs": [],
   "source": [
    "a = np.prod(Y.shape)\n"
   ]
  }
 ],
 "metadata": {
  "kernelspec": {
   "display_name": "Python 3.9.12 ('base')",
   "language": "python",
   "name": "python3"
  },
  "language_info": {
   "codemirror_mode": {
    "name": "ipython",
    "version": 3
   },
   "file_extension": ".py",
   "mimetype": "text/x-python",
   "name": "python",
   "nbconvert_exporter": "python",
   "pygments_lexer": "ipython3",
   "version": "3.9.12"
  },
  "orig_nbformat": 4,
  "vscode": {
   "interpreter": {
    "hash": "65b2ebf3f6b5cb4dd9088c73619a70fc636372e7b1fbbb667e39a893867073fd"
   }
  }
 },
 "nbformat": 4,
 "nbformat_minor": 2
}
